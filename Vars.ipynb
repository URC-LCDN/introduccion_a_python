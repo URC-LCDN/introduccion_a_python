{
  "nbformat": 4,
  "nbformat_minor": 0,
  "metadata": {
    "colab": {
      "provenance": [],
      "authorship_tag": "ABX9TyOoVQoy8cuN9y7yEMNCsNB2",
      "include_colab_link": true
    },
    "kernelspec": {
      "name": "python3",
      "display_name": "Python 3"
    },
    "language_info": {
      "name": "python"
    }
  },
  "cells": [
    {
      "cell_type": "markdown",
      "metadata": {
        "id": "view-in-github",
        "colab_type": "text"
      },
      "source": [
        "<a href=\"https://colab.research.google.com/github/URC-LCDN/introduccion_a_python/blob/main/Vars.ipynb\" target=\"_parent\"><img src=\"https://colab.research.google.com/assets/colab-badge.svg\" alt=\"Open In Colab\"/></a>"
      ]
    },
    {
      "cell_type": "markdown",
      "source": [
        "# Curso Taller Python\n",
        "![AV](https://encrypted-tbn0.gstatic.com/images?q=tbn:ANd9GcQDDye3gWG_GBAc5jYFsrPU6-pVdG2WuG5tFQ&usqp=CAU)"
      ],
      "metadata": {
        "id": "GO5sVS7of4FN"
      }
    },
    {
      "cell_type": "markdown",
      "source": [
        "---\n",
        "#Definir variables"
      ],
      "metadata": {
        "id": "krJWghJ35hCF"
      }
    },
    {
      "cell_type": "code",
      "execution_count": null,
      "metadata": {
        "id": "uhmMdYT-4-jw"
      },
      "outputs": [],
      "source": [
        "miVariableNombre = \"Donald\"\n",
        "MiVariableNombre = \"Rosario\"\n",
        "mi_variable_nombre = \"Rosario\"\n"
      ]
    },
    {
      "cell_type": "markdown",
      "source": [
        "# Imprimir variables"
      ],
      "metadata": {
        "id": "vAo89phoAx7a"
      }
    },
    {
      "cell_type": "code",
      "source": [
        "print(miVariableNombre)\n",
        "print(MiVariableNombre)\n",
        "print(mi_variable_nombre)"
      ],
      "metadata": {
        "id": "UdSC8SlRAxIm",
        "colab": {
          "base_uri": "https://localhost:8080/"
        },
        "outputId": "ce9d692a-5cc9-4ab8-d43e-28525817f5d3"
      },
      "execution_count": null,
      "outputs": [
        {
          "output_type": "stream",
          "name": "stdout",
          "text": [
            "Donald\n",
            "Rosario\n",
            "Rosario\n"
          ]
        }
      ]
    },
    {
      "cell_type": "markdown",
      "source": [
        "# Concatenar variables"
      ],
      "metadata": {
        "id": "Sl-RlAMTAnog"
      }
    },
    {
      "cell_type": "code",
      "source": [
        "print(\"miVariableNombre: \",miVariableNombre)\n",
        "print(\"MiVariableNombre: \"+MiVariableNombre) # Las variables son cadenas (strings)"
      ],
      "metadata": {
        "id": "52nPhLLp6Flt",
        "colab": {
          "base_uri": "https://localhost:8080/"
        },
        "outputId": "3a318413-22ce-4398-e4b5-2bdad5c1c5dc"
      },
      "execution_count": null,
      "outputs": [
        {
          "output_type": "stream",
          "name": "stdout",
          "text": [
            "miVariableNombre:  Donald\n",
            "MiVariableNombre: Rosario\n"
          ]
        }
      ]
    },
    {
      "cell_type": "markdown",
      "source": [
        "#Tipos de Variables"
      ],
      "metadata": {
        "id": "i8sHjB-Q75_m"
      }
    },
    {
      "cell_type": "code",
      "source": [
        "Cadena = \"Hola!\"\n",
        "Cadena2 = 'Adios'\n",
        "Cadena3 =\"Hola a todos l@s 'alumn@s'  del curso\"\n",
        "Entero = 20\n",
        "Real = 20.5\n",
        "Real2= 1/4\n",
        "Complejo = 1 - 2j\n",
        "Booleano = False\n",
        "print(Cadena)\n",
        "print(Cadena2)\n",
        "print(Cadena3)\n",
        "print(Entero)\n",
        "print(Real)\n",
        "print(Real2)\n",
        "print(Complejo)\n",
        "print(Complejo.real)\n",
        "print(Complejo.imag)\n",
        "print(Booleano)"
      ],
      "metadata": {
        "id": "xTLsRT9B8Nsh"
      },
      "execution_count": null,
      "outputs": []
    },
    {
      "cell_type": "markdown",
      "source": [
        "# Impresion de tipos de variables"
      ],
      "metadata": {
        "id": "m9z1f9-Z-idw"
      }
    },
    {
      "cell_type": "code",
      "source": [
        "print(type(Cadena))\n",
        "print(type(Cadena2))\n",
        "print(type(Entero))\n",
        "print(type(Real))\n",
        "print(type(Complejo))\n",
        "print(type(Complejo.real))\n",
        "print(type(Booleano))\n",
        "\n",
        "\n"
      ],
      "metadata": {
        "id": "ati3amiN-TSO"
      },
      "execution_count": null,
      "outputs": []
    },
    {
      "cell_type": "markdown",
      "source": [
        "#Asignación de tipos de variables"
      ],
      "metadata": {
        "id": "m4IGOtsb9-NC"
      }
    },
    {
      "cell_type": "code",
      "source": [
        "cadena = str(3)    # cadena tendrá el valor: '3'\n",
        "entero = int(3.1)  # entero tendrá el valor:  3\n",
        "real = float(3)    # real tendrá el valor: 3.\n",
        "continuar = bool(True)\n",
        "print(cadena,entero,real,continuar)"
      ],
      "metadata": {
        "id": "sjbEojPz-n2Q"
      },
      "execution_count": null,
      "outputs": []
    },
    {
      "cell_type": "markdown",
      "source": [
        "# Cadenas (Srings)"
      ],
      "metadata": {
        "id": "ZV_4ECJhCX2X"
      }
    },
    {
      "cell_type": "code",
      "source": [
        "print(\"Hola\")\n",
        "print('Hola')\n",
        "print(\"Hola mis estimad@s 'alumn@s' de primer año.\")\n",
        "texto = \"\"\"Lorem ipsum dolor sit amet,\n",
        "consectetur adipiscing elit,\n",
        "sed do eiusmod tempor incididunt\n",
        "ut labore et dolore magna aliqua.\"\"\"\n",
        "print(texto)"
      ],
      "metadata": {
        "id": "pVCm3DKD-hjx"
      },
      "execution_count": null,
      "outputs": []
    },
    {
      "cell_type": "markdown",
      "source": [
        "# Elementos de la cadena"
      ],
      "metadata": {
        "id": "dq8hFhrNDTl5"
      }
    },
    {
      "cell_type": "code",
      "source": [
        "Saludo = \"Hola a todos!\"\n",
        "print(Saludo[0])\n",
        "print(Saludo[12])\n",
        "print(Saludo[0],\"...\",Saludo[12] )\n",
        "print(len(Saludo))\n",
        "print(Saludo[0],\"...\",Saludo[len(Saludo)-1] )\n",
        "print(Saludo[10])\n"
      ],
      "metadata": {
        "id": "pLJNjkiNDXXj"
      },
      "execution_count": null,
      "outputs": []
    },
    {
      "cell_type": "markdown",
      "source": [
        "# Comprobar si existe una cadena en otra"
      ],
      "metadata": {
        "id": "Y6Quuv3DFPM2"
      }
    },
    {
      "cell_type": "code",
      "source": [
        "texto = \"Los mejores momentos de la vida son gratis!\"\n",
        "print(\"momentos\" in texto)\n",
        "\n",
        "print(\"grandes\" in texto)"
      ],
      "metadata": {
        "id": "KJ00qQ0KEuan"
      },
      "execution_count": null,
      "outputs": []
    },
    {
      "cell_type": "markdown",
      "source": [
        "# Slicing (Seperación) de cadenas"
      ],
      "metadata": {
        "id": "3ZYj0ujqEply"
      }
    },
    {
      "cell_type": "code",
      "source": [
        "mensaje = \"Hola, mundo!\"\n",
        "print(mensaje)\n",
        "print(mensaje[:4])\n",
        "print(mensaje[4:6])\n",
        "print(mensaje[6:])"
      ],
      "metadata": {
        "id": "7DLqCT0qFIvj",
        "colab": {
          "base_uri": "https://localhost:8080/"
        },
        "outputId": "4733dc10-54eb-4788-8116-a3b28084eb22"
      },
      "execution_count": null,
      "outputs": [
        {
          "output_type": "stream",
          "name": "stdout",
          "text": [
            "Hola, mundo!\n",
            "Hola\n",
            ", \n",
            "mundo!\n"
          ]
        }
      ]
    },
    {
      "cell_type": "markdown",
      "source": [
        "# Métodos de cadenas\n",
        "\n",
        "> Referencia:\n",
        "> [String Methods](https://www.w3schools.com/python/python_ref_string.asp)"
      ],
      "metadata": {
        "id": "8HPzFJULGasJ"
      }
    },
    {
      "cell_type": "code",
      "source": [
        "mensaje = \"Hola, mundo!\"\n",
        "print(mensaje)\n",
        "print(mensaje.upper())\n",
        "print(mensaje.lower())\n",
        "print(mensaje.strip())\n",
        "print(mensaje.replace(\"m\",\"M\"))\n",
        "print(mensaje.capitalize())\n",
        "\n",
        "\n"
      ],
      "metadata": {
        "id": "Tasr7B5zGdYN",
        "colab": {
          "base_uri": "https://localhost:8080/"
        },
        "outputId": "0d1de656-c6dc-4ff0-cfac-4a05af13bc06"
      },
      "execution_count": null,
      "outputs": [
        {
          "output_type": "stream",
          "name": "stdout",
          "text": [
            "Hola, mundo!\n",
            "HOLA, MUNDO!\n",
            "hola, mundo!\n",
            "Hola, mundo!\n",
            "Hola, Mundo!\n",
            "Hola, mundo!\n"
          ]
        }
      ]
    },
    {
      "cell_type": "markdown",
      "source": [
        "# Formato de cadenas"
      ],
      "metadata": {
        "id": "7UDWatwsIj-f"
      }
    },
    {
      "cell_type": "code",
      "source": [
        "precio= 560\n",
        "texto = \"El precio es de {} pesos\"\n",
        "print(texto.format(precio))"
      ],
      "metadata": {
        "id": "CAabExhhImr-",
        "colab": {
          "base_uri": "https://localhost:8080/"
        },
        "outputId": "b3956b62-e21d-4f89-ac20-b0944fe89431"
      },
      "execution_count": null,
      "outputs": [
        {
          "output_type": "stream",
          "name": "stdout",
          "text": [
            "El precio es de 560 pesos\n"
          ]
        }
      ]
    },
    {
      "cell_type": "code",
      "source": [
        "precio=34.678434\n",
        "texto = \"El precio es de {:.3f} pesos\"\n",
        "print(texto.format(precio))"
      ],
      "metadata": {
        "colab": {
          "base_uri": "https://localhost:8080/"
        },
        "id": "rpfsSghZJvsB",
        "outputId": "4986ecf5-3b7d-4559-8097-0cacac190480"
      },
      "execution_count": null,
      "outputs": [
        {
          "output_type": "stream",
          "name": "stdout",
          "text": [
            "El precio es de 34.678 pesos\n"
          ]
        }
      ]
    },
    {
      "cell_type": "code",
      "source": [
        "cantidad= 3\n",
        "codigo = 567\n",
        "precio = 49.75\n",
        "# Formato en Python 2\n",
        "miOrden = \"Quiero {} piezas, con el código {} y con costo de {:.2f} pesos.\"\n",
        "print(miOrden.format(cantidad, codigo, precio))\n",
        "# Formato en Python 3\n",
        "print(f\"Quiero {cantidad} piezas, con el codigo {codigo} y con costo de {precio :.2f} pesos.\")"
      ],
      "metadata": {
        "colab": {
          "base_uri": "https://localhost:8080/"
        },
        "id": "1kAVC836J784",
        "outputId": "a281e12f-8023-47e4-8cc6-9e86927a0a8b"
      },
      "execution_count": null,
      "outputs": [
        {
          "output_type": "stream",
          "name": "stdout",
          "text": [
            "Quiero 3 piezas, con el código 567 y con costo de 49.75 pesos.\n",
            "Quiero 3 piezas, con el codigo 567 y con costo de 49.75 pesos.\n"
          ]
        }
      ]
    },
    {
      "cell_type": "markdown",
      "source": [
        "# Toma de datos del teclado"
      ],
      "metadata": {
        "id": "OdAKICJV0i3s"
      }
    },
    {
      "cell_type": "code",
      "source": [
        "nombre = input(\"Dame tu nombre: \")\n",
        "edad = int(input(\"¿Cuál es tu edad?: \"))\n",
        "peso = float(input(\"¿Cuanto pesas? :\"))\n",
        "print(f\"Te llamas {nombre}\\n. Tienes {edad} años.\\n Pesas {peso:.2f} kgs.\")"
      ],
      "metadata": {
        "id": "2Lil99Pq0uTQ",
        "colab": {
          "base_uri": "https://localhost:8080/"
        },
        "outputId": "ef2d52b8-00f5-48e5-b91c-107006de591b"
      },
      "execution_count": null,
      "outputs": [
        {
          "output_type": "stream",
          "name": "stdout",
          "text": [
            "Dame tu nombre: luis\n",
            "¿Cuál es tu edad?: 56\n",
            "¿Cuanto pesas? :56.85\n",
            "Te llamas luis\n",
            ". Tienes 56 años.\n",
            " Pesas 56.85 kgs.\n"
          ]
        }
      ]
    },
    {
      "cell_type": "markdown",
      "source": [
        "# Códigos Unicode"
      ],
      "metadata": {
        "id": "CTsKVk6-Kq3f"
      }
    },
    {
      "cell_type": "code",
      "source": [
        "print(\"\\U0001F525\")  # Imprime una flama\n",
        "print(\"\\U0001F606\")  # Imorime carita sonrite\n",
        "print(\"\\U0001F60F\")  # Imprime carita\n",
        "print(\"👨‍🏫\")         # Liga: https://emojiterra.com/\n",
        "print(\"👩‍🎓\")\n",
        "print(\"🤖\")\n"
      ],
      "metadata": {
        "id": "mewScyjZKyCC",
        "colab": {
          "base_uri": "https://localhost:8080/"
        },
        "outputId": "561a72c6-2bda-46de-9228-30e949f92011"
      },
      "execution_count": null,
      "outputs": [
        {
          "output_type": "stream",
          "name": "stdout",
          "text": [
            "🔥\n",
            "😆\n",
            "😏\n",
            "👨‍🏫\n",
            "👩‍🎓\n",
            "🤖\n"
          ]
        }
      ]
    },
    {
      "cell_type": "markdown",
      "source": [
        "# Color de texto\n",
        "~~~\n",
        "|Estilos        | Color Texto   |Color Fondo    |\n",
        "|0 - Sin efecto | 30 - Negro    | 40 - Negro    |\n",
        "|1 - Negrita    | 31 - Rojo     | 41 - Rojo     |\n",
        "|2 - Debil      | 32 - Verde    | 42 - Verde    |\n",
        "|3 - Cursiva    | 33 - Amarillo | 43 - Amarillo |\n",
        "|4 - Subrayado  | 34 - Azul     | 44 - Azul     |\n",
        "|5 - Intenso    | 35 - Morado   | 45 - Moredado |\n",
        "|6 - Oculto     | 36 - Cyan     | 46 - Cyan     |\n",
        "|7 - Tachado    | 37 - Blanco   | 47 - Blanco   |\n",
        "~~~\n",
        "\n",
        "ESC [ estilo ; color ; fondo m  TEXTO  ESC[0m\n"
      ],
      "metadata": {
        "id": "oUjEB9FyOerK"
      }
    },
    {
      "cell_type": "code",
      "source": [
        "ESC=chr(27)\n",
        "estilo=0\n",
        "color=36\n",
        "fondo=44\n",
        "print(f\"{ESC}[{estilo};{color};{fondo}m         Texto         {ESC}[0m\",end= \"\")"
      ],
      "metadata": {
        "id": "0jGVKP3qOjVF",
        "colab": {
          "base_uri": "https://localhost:8080/"
        },
        "outputId": "e110e993-a4a0-45f8-81dc-a4b541104d0d"
      },
      "execution_count": null,
      "outputs": [
        {
          "output_type": "stream",
          "name": "stdout",
          "text": [
            "\u001b[0;36;44m         Texto         \u001b[0m"
          ]
        }
      ]
    },
    {
      "cell_type": "markdown",
      "source": [
        "# Operadores Aritméticos"
      ],
      "metadata": {
        "id": "uXuNReGDZz-N"
      }
    },
    {
      "cell_type": "code",
      "source": [
        "num1 = 3\n",
        "num2= -5\n",
        "suma = num1 + num2\n",
        "resta = num1 - num2\n",
        "mult = num1 * num2\n",
        "exp = num2 ** num2\n",
        "div = num2 / num1\n",
        "divEnt = num2 // num1\n",
        "residuo = num2 % num1\n",
        "print()\n",
        "\n"
      ],
      "metadata": {
        "id": "Z63lH_UCZ9iR"
      },
      "execution_count": null,
      "outputs": []
    },
    {
      "cell_type": "markdown",
      "source": [
        "# Incrementos / Decrementos\n",
        "   Variable = varible operador constante  ( sum = sum + 1 )\n",
        "   variable operador = constante          ( sum += 1      )"
      ],
      "metadata": {
        "id": "HGRUOl5sbGwN"
      }
    },
    {
      "cell_type": "code",
      "source": [
        "contador = 1\n",
        "contador += 1  #  Es igual a: contador = contador + 1\n",
        "print(contador)\n",
        "\n",
        "contador2 = 10\n",
        "contador2 -= 1  #  Es igual a: contador2 = contador2 - 1\n",
        "print(contador2)\n"
      ],
      "metadata": {
        "id": "yZSswke8bKCc"
      },
      "execution_count": null,
      "outputs": []
    },
    {
      "cell_type": "markdown",
      "source": [
        "# Rangos\n",
        "  range( valor_inical, valor_final - 1, incremento)"
      ],
      "metadata": {
        "id": "bn-NiLfD-nSm"
      }
    },
    {
      "cell_type": "code",
      "source": [
        "nums=range(10)          # nums toma los valores de 0 a 9\n",
        "print(nums)\n",
        "\n",
        "nums2=range(0, 11, 2)   # nums2 toma los valores de 0 a 10 incrementando 2\n",
        "print(nums2)\n",
        "\n",
        "nums3=range(10, 0, -2)  # nums3 toma los valores de 10 a 1 decremenetado 2\n",
        "print(nums3)\n",
        "\n",
        "nums4=range(10, 0)      # nums4 toma los valores de 10 a 1 decremenetado 1\n",
        "print(nums4)"
      ],
      "metadata": {
        "id": "b5ktSghi-zUJ",
        "colab": {
          "base_uri": "https://localhost:8080/"
        },
        "outputId": "d2dd7e89-679f-4b52-f25a-8ae7c9af62c0"
      },
      "execution_count": null,
      "outputs": [
        {
          "output_type": "stream",
          "name": "stdout",
          "text": [
            "range(0, 10)\n",
            "range(0, 11, 2)\n",
            "range(10, 0, -2)\n",
            "range(10, 0)\n"
          ]
        }
      ]
    },
    {
      "cell_type": "markdown",
      "source": [
        "# Operadores de comparación"
      ],
      "metadata": {
        "id": "--QvTgkhbl0H"
      }
    },
    {
      "cell_type": "code",
      "source": [
        "num1 = 1\n",
        "num2 = 2\n",
        "print(\"¿Son iguales?\",num1 == num2)   # Igual a\n",
        "print(num1 > num2)    # Mayor que\n",
        "print(num1 >= num2)   # Mayor o igual\n",
        "print(num1 < num2)    # Menor que\n",
        "print(num1 <= num2)   # Menor o igual\n",
        "print(\"¿Son diferentes?\",num1 != num2)   # Diferente"
      ],
      "metadata": {
        "colab": {
          "base_uri": "https://localhost:8080/"
        },
        "id": "NyxwcpvJbpUc",
        "outputId": "f6df59c7-a349-499d-b847-2591aa9ca7d6"
      },
      "execution_count": 2,
      "outputs": [
        {
          "output_type": "stream",
          "name": "stdout",
          "text": [
            "¿Son iguales? False\n",
            "False\n",
            "False\n",
            "True\n",
            "True\n",
            "¿Son diferentes? True\n"
          ]
        }
      ]
    },
    {
      "cell_type": "markdown",
      "source": [
        "# Operadores lógicos"
      ],
      "metadata": {
        "id": "bWU9DSqNdeZs"
      }
    },
    {
      "cell_type": "code",
      "source": [
        "uno = True\n",
        "otro = False\n",
        "print(uno and otro)   #  Y\n",
        "print(uno or otro)    #  O\n",
        "print(not uno)        #  NOT\n",
        "print(not otro)"
      ],
      "metadata": {
        "id": "Vy0QZEBGdlV1"
      },
      "execution_count": null,
      "outputs": []
    }
  ]
}